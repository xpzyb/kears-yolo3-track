{
 "cells": [
  {
   "cell_type": "markdown",
   "metadata": {},
   "source": [
    "### 本项目引用了作者qqwweee的kears-yolo3程序\n",
    "## 作者链接：https://github.com/qqwweee/keras-yolo3\n",
    "为了提升处理速度，在yolo3的基础上添加了opencv处理程序\n",
    "### 检测部分\n",
    "yolo3提供检测功能，代码没有改动\n",
    "### 跟踪部分\n",
    "详情请见yolo.py文件下的两段代码，大概为将检测到的目标位置送进kcf跟踪器中实现隔帧检测\n",
    "### 项目运行\n",
    "直接运行“运行程序.py”即可"
   ]
  },
  {
   "cell_type": "code",
   "execution_count": null,
   "metadata": {},
   "outputs": [],
   "source": []
  }
 ],
 "metadata": {
  "kernelspec": {
   "display_name": "Python 3",
   "language": "python",
   "name": "python3"
  },
  "language_info": {
   "codemirror_mode": {
    "name": "ipython",
    "version": 3
   },
   "file_extension": ".py",
   "mimetype": "text/x-python",
   "name": "python",
   "nbconvert_exporter": "python",
   "pygments_lexer": "ipython3",
   "version": "3.6.4"
  }
 },
 "nbformat": 4,
 "nbformat_minor": 2
}
